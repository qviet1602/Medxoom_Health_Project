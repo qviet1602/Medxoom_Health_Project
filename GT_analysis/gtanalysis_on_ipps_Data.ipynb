{
 "cells": [
  {
   "cell_type": "code",
   "execution_count": 1,
   "metadata": {},
   "outputs": [],
   "source": [
    "import numpy as np\n",
    "import pandas as pd"
   ]
  },
  {
   "cell_type": "code",
   "execution_count": 2,
   "metadata": {},
   "outputs": [],
   "source": [
    "# read in IPPS dataset from 2015-2017\n",
    "def load_IPPS_Provider_Data(p):\n",
    "    files = ['Medicare_Provider_Charge_Inpatient_DRGALL_FY2015.csv',\n",
    "             'Medicare_Provider_Charge_Inpatient_DRGALL_FY2016.csv',\n",
    "             'Medicare_Provider_Charge_Inpatient_DRGALL_FY2017.csv']\n",
    "    df = pd.DataFrame([])\n",
    "    for index,file in enumerate(files):\n",
    "        db = pd.read_csv(p+file,dtype=str)\n",
    "        db['year'] = 2015+index\n",
    "        db.columns=db.columns.str.replace('\\n',' ') \n",
    "        df = df.append(db)\n",
    "    df['Provider Id'] = df['Provider Id'].apply(lambda x: x.zfill(6))\n",
    "    cols = ['Total Discharges', 'Average Covered Charges',\n",
    "       'Average Total Payments', 'Average Medicare Payments']\n",
    "    \n",
    "    for col in cols:\n",
    "        df[col] = df[col].replace('[\\$,]', '', regex=True).astype(float)\n",
    "        df[col] = pd.to_numeric(df[col])\n",
    "    return df\n",
    "path2 = './gtmsa_practicum_datasets/Medicare_Provider_Charge_Inpatient_DRG/'\n",
    "ipps = load_IPPS_Provider_Data(path2)"
   ]
  },
  {
   "cell_type": "code",
   "execution_count": 3,
   "metadata": {},
   "outputs": [],
   "source": [
    "def convert_ipps_grouped_data(dt):\n",
    "    \n",
    "    cols = ['Provider Id' ,'year','Total Discharges', 'Average Covered Charges',\n",
    "       'Average Total Payments', 'Average Medicare Payments']\n",
    "    dt = dt[cols].groupby(by=['Provider Id' ,'year']).mean()\n",
    "    dt = dt.unstack('year')\n",
    "    dt['medicare provider number'] = dt.index\n",
    "    return dt\n",
    "data = convert_ipps_grouped_data(ipps)"
   ]
  },
  {
   "cell_type": "code",
   "execution_count": 4,
   "metadata": {},
   "outputs": [],
   "source": [
    "data.to_csv('../gtmsa_practicum_datasets/IPPS_final_data.csv',index=False)"
   ]
  },
  {
   "cell_type": "code",
   "execution_count": 13,
   "metadata": {},
   "outputs": [],
   "source": [
    "#export selected ipps to excel\n",
    "ipps_uniq.to_csv(\"ipps_selected.csv\",sep=',', encoding='utf-8')"
   ]
  },
  {
   "cell_type": "code",
   "execution_count": null,
   "metadata": {},
   "outputs": [],
   "source": []
  }
 ],
 "metadata": {
  "kernelspec": {
   "display_name": "Python 3",
   "language": "python",
   "name": "python3"
  },
  "language_info": {
   "codemirror_mode": {
    "name": "ipython",
    "version": 3
   },
   "file_extension": ".py",
   "mimetype": "text/x-python",
   "name": "python",
   "nbconvert_exporter": "python",
   "pygments_lexer": "ipython3",
   "version": "3.8.5"
  }
 },
 "nbformat": 4,
 "nbformat_minor": 4
}
