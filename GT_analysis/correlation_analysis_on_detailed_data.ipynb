{
 "cells": [
  {
   "cell_type": "code",
   "execution_count": 1,
   "metadata": {},
   "outputs": [],
   "source": [
    "import numpy as np\n",
    "import pandas as pd\n",
    "from matplotlib import pyplot as plt\n",
    "from sklearn.linear_model import LinearRegression\n",
    "from sklearn.model_selection import train_test_split\n",
    "from sklearn.preprocessing import LabelEncoder\n",
    "from sklearn.metrics import mean_squared_error, r2_score"
   ]
  },
  {
   "cell_type": "markdown",
   "metadata": {},
   "source": [
    "<h1> Merging all data"
   ]
  },
  {
   "cell_type": "code",
   "execution_count": 2,
   "metadata": {},
   "outputs": [
    {
     "name": "stdout",
     "output_type": "stream",
     "text": [
      "IPPS shape :  (3294, 13)\n",
      "OPPS shape :  (3246, 16)\n",
      "Detailed data shape :  (3329, 30)\n",
      "Rand data shape :  (1628, 31)\n",
      "Final merged data shape :  (3329, 87)\n"
     ]
    }
   ],
   "source": [
    "def merging_all():\n",
    "    \n",
    "    ipps = pd.read_csv('../gtmsa_practicum_datasets/IPPS_final_data.csv',dtype=str)\n",
    "    opps = pd.read_csv('../gtmsa_practicum_datasets/OPPS_final_data.csv',dtype=str)\n",
    "    det = pd.read_csv('../gtmsa_practicum_datasets/detailed_final_data.csv',dtype=str)\n",
    "    rand = pd.read_csv('../gtmsa_practicum_datasets/rand_final_data.csv',dtype=str)\n",
    "    \n",
    "    df = pd.merge(det,ipps,how='left')\n",
    "    df = pd.merge(df,opps,how='left')\n",
    "    df = pd.merge(df,rand,how='left')\n",
    "    \n",
    "    print('IPPS shape : ',ipps.shape)\n",
    "    print('OPPS shape : ',opps.shape)\n",
    "    print('Detailed data shape : ',det.shape)\n",
    "    print('Rand data shape : ',rand.shape)\n",
    "\n",
    "    print('Final merged data shape : ',df.shape)\n",
    "    \n",
    "    return df\n",
    "merged_data = merging_all()\n",
    "merged_data.to_csv('../gtmsa_practicum_datasets/merged_final_data.csv',index=False)"
   ]
  },
  {
   "cell_type": "markdown",
   "metadata": {},
   "source": [
    "<h1> Prepping detailed data set"
   ]
  },
  {
   "cell_type": "code",
   "execution_count": 3,
   "metadata": {},
   "outputs": [
    {
     "name": "stdout",
     "output_type": "stream",
     "text": [
      "Final detailed data shape : (3329, 30)\n",
      "(3329, 30)\n"
     ]
    }
   ],
   "source": [
    "def load_detailed_dataset():\n",
    "    db = pd.read_excel('../gtmsa_practicum_datasets/Detail_Data_new.xlsx',\n",
    "                        sheet_name='Table 1. PF Hospitals',skiprows=9,dtype=str)\n",
    "    db.columns=db.columns.str.replace('\\n',' ')\n",
    "    db.columns = db.columns.str.lower()\n",
    "    df = pd.read_excel('../gtmsa_practicum_datasets/Detailed_Data.xlsx',\n",
    "                        sheet_name='Table 1. Hospitals',skiprows=16,dtype=str)\n",
    "    df.columns=df.columns.str.replace('\\n',' ')\n",
    "    df.columns = df.columns.str.lower()\n",
    "    \n",
    "    dt = pd.concat([db,df])\n",
    "    dt = dt.drop_duplicates(subset=(['medicare provider number']),keep='first')\n",
    "    print('Final detailed data shape :',dt.shape)\n",
    "    return dt\n",
    "det_data = load_detailed_dataset()\n",
    "print(det_data.shape)"
   ]
  },
  {
   "cell_type": "code",
   "execution_count": 4,
   "metadata": {},
   "outputs": [],
   "source": [
    "det_data.to_csv('../gtmsa_practicum_datasets/detailed_final_data.csv',index=False)"
   ]
  },
  {
   "cell_type": "markdown",
   "metadata": {},
   "source": [
    "<h1> Earlier Correlationanalysis done in October for midterm report"
   ]
  },
  {
   "cell_type": "code",
   "execution_count": 2,
   "metadata": {},
   "outputs": [],
   "source": [
    "# read in detailed_data dataset\n",
    "main_data = pd.read_excel('../gtmsa_practicum_datasets/Detailed_Data.xlsx',\n",
    "                        sheet_name='Table 1. Hospitals',skiprows=16,dtype=str)\n",
    "main_data.columns=main_data.columns.str.replace('\\n',' ')"
   ]
  },
  {
   "cell_type": "code",
   "execution_count": 3,
   "metadata": {},
   "outputs": [],
   "source": [
    "# read in OPPS dataset from 2015-2017\n",
    "def load_OPPS_Provider_Data(p):\n",
    "    files = ['MUP_OHP_R19_P04_V10_D15_APC_Provider.xlsx',\n",
    "             'MUP_OHP_R19_P04_V10_D16_APC_Provider.xlsx',\n",
    "             'MUP_OHP_R19_P04_V10_D17_APC_Provider.xlsx']\n",
    "    df = pd.DataFrame([])\n",
    "    for index,file in enumerate(files):\n",
    "        db = pd.read_excel(p+file,skiprows=5,dtype=str)\n",
    "        db['year'] = 2015+index\n",
    "        db.columns=db.columns.str.replace('\\n',' ') \n",
    "        df = df.append(db)\n",
    "    return df\n",
    "path1 = '../gtmsa_practicum_datasets/OPPS_charge_data/'\n",
    "opps = load_OPPS_Provider_Data(path1)\n"
   ]
  },
  {
   "cell_type": "code",
   "execution_count": 4,
   "metadata": {},
   "outputs": [],
   "source": [
    "# read in IPPS dataset from 2015-2017\n",
    "def load_IPPS_Provider_Data(p):\n",
    "    files = ['Medicare_Provider_Charge_Inpatient_DRGALL_FY2015.csv',\n",
    "             'Medicare_Provider_Charge_Inpatient_DRGALL_FY2016.csv',\n",
    "             'Medicare_Provider_Charge_Inpatient_DRGALL_FY2017.csv']\n",
    "    df = pd.DataFrame([])\n",
    "    for index,file in enumerate(files):\n",
    "        db = pd.read_csv(p+file,dtype=str)\n",
    "        db['year'] = 2015+index\n",
    "        db.columns=db.columns.str.replace('\\n',' ') \n",
    "        df = df.append(db)\n",
    "    return df\n",
    "path2 = '../gtmsa_practicum_datasets/Medicare_Provider_Charge_Inpatient_DRG/'\n",
    "ipps = load_IPPS_Provider_Data(path2)\n"
   ]
  },
  {
   "cell_type": "code",
   "execution_count": 5,
   "metadata": {},
   "outputs": [
    {
     "name": "stdout",
     "output_type": "stream",
     "text": [
      "(103328, 17)\n",
      "(595484, 13)\n",
      "(1598, 22)\n"
     ]
    }
   ],
   "source": [
    "print(opps.shape)\n",
    "print(ipps.shape)\n",
    "print(main_data.shape)"
   ]
  },
  {
   "cell_type": "code",
   "execution_count": 6,
   "metadata": {},
   "outputs": [
    {
     "name": "stdout",
     "output_type": "stream",
     "text": [
      "['Provider ID' 'Provider Name' 'Provider Street Address' 'Provider City'\n",
      " 'Provider State' 'Provider Zip Code'\n",
      " 'Provider Hospital Referral Region (HRR)' 'APC' 'APC Description'\n",
      " 'Beneficiaries' 'Comprehensive APC Services'\n",
      " 'Average Estimated Total Submitted Charges'\n",
      " 'Average Medicare Allowed Amount' 'Average Medicare Payment Amount'\n",
      " 'Outlier Comprehensive APC Services' 'Average Medicare Outlier Amount'\n",
      " 'year']\n"
     ]
    }
   ],
   "source": [
    "# OPPS data manipulation\n",
    "print(opps.columns.values)\n",
    "#opps['Comprehensive APC Services']\n",
    "# convert to integer\n",
    "opps['Average Medicare Allowed Amount'] = pd.to_numeric(opps['Average Medicare Allowed Amount'])\n",
    "opps['Comprehensive APC Services'] = pd.to_numeric(opps['Comprehensive APC Services'])\n",
    "# calculate Total Medicare Payment Amount for OPPS\n",
    "opps['Medicare Allowed Amount'] = opps['Average Medicare Allowed Amount'] * opps['Comprehensive APC Services']/1000000"
   ]
  },
  {
   "cell_type": "code",
   "execution_count": 7,
   "metadata": {
    "scrolled": false
   },
   "outputs": [
    {
     "name": "stdout",
     "output_type": "stream",
     "text": [
      "['DRG Definition' 'Provider Id' 'Provider Name' 'Provider Street Address'\n",
      " 'Provider City' 'Provider State' 'Provider Zip Code'\n",
      " 'Hospital Referral Region (HRR) Description' 'Total Discharges'\n",
      " 'Average Covered Charges' 'Average Total Payments'\n",
      " 'Average Medicare Payments' 'year']\n"
     ]
    }
   ],
   "source": [
    "# IPPS data manipulation\n",
    "print(ipps.columns.values)\n",
    "# convert to integer\n",
    "ipps['Average Total Payments'] = ipps['Average Total Payments'].replace('[\\$,]', '', regex=True).astype(float)\n",
    "#ipps['Average Total Payments'] = pd.to_numeric(ipps['Average Total Payments'])\n",
    "ipps['Total Discharges'] = ipps['Total Discharges'].replace(',', '', regex=True).astype(float)\n",
    "# calculate Total Medicare Payment Amount for OPPS\n",
    "ipps['Total Payments'] = ipps['Average Total Payments'] * ipps['Total Discharges']/1000000"
   ]
  },
  {
   "cell_type": "code",
   "execution_count": 8,
   "metadata": {},
   "outputs": [
    {
     "data": {
      "text/html": [
       "<div>\n",
       "<style scoped>\n",
       "    .dataframe tbody tr th:only-of-type {\n",
       "        vertical-align: middle;\n",
       "    }\n",
       "\n",
       "    .dataframe tbody tr th {\n",
       "        vertical-align: top;\n",
       "    }\n",
       "\n",
       "    .dataframe thead th {\n",
       "        text-align: right;\n",
       "    }\n",
       "</style>\n",
       "<table border=\"1\" class=\"dataframe\">\n",
       "  <thead>\n",
       "    <tr style=\"text-align: right;\">\n",
       "      <th></th>\n",
       "      <th>DRG Definition</th>\n",
       "      <th>Provider Id</th>\n",
       "      <th>Provider Name</th>\n",
       "      <th>Provider Street Address</th>\n",
       "      <th>Provider City</th>\n",
       "      <th>Provider State</th>\n",
       "      <th>Provider Zip Code</th>\n",
       "      <th>Hospital Referral Region (HRR) Description</th>\n",
       "      <th>Total Discharges</th>\n",
       "      <th>Average Covered Charges</th>\n",
       "      <th>Average Total Payments</th>\n",
       "      <th>Average Medicare Payments</th>\n",
       "      <th>year</th>\n",
       "      <th>Total Payments</th>\n",
       "    </tr>\n",
       "  </thead>\n",
       "  <tbody>\n",
       "    <tr>\n",
       "      <th>0</th>\n",
       "      <td>001 - HEART TRANSPLANT OR IMPLANT OF HEART ASS...</td>\n",
       "      <td>10033</td>\n",
       "      <td>UNIVERSITY OF ALABAMA HOSPITAL</td>\n",
       "      <td>619 SOUTH 19TH STREET</td>\n",
       "      <td>BIRMINGHAM</td>\n",
       "      <td>AL</td>\n",
       "      <td>35233</td>\n",
       "      <td>AL - Birmingham</td>\n",
       "      <td>11.0</td>\n",
       "      <td>1014783.45</td>\n",
       "      <td>171081.18</td>\n",
       "      <td>141193.91</td>\n",
       "      <td>2015</td>\n",
       "      <td>1.881893</td>\n",
       "    </tr>\n",
       "    <tr>\n",
       "      <th>1</th>\n",
       "      <td>001 - HEART TRANSPLANT OR IMPLANT OF HEART ASS...</td>\n",
       "      <td>30103</td>\n",
       "      <td>MAYO CLINIC HOSPITAL</td>\n",
       "      <td>5777 EAST MAYO BOULEVARD</td>\n",
       "      <td>PHOENIX</td>\n",
       "      <td>AZ</td>\n",
       "      <td>85054</td>\n",
       "      <td>AZ - Phoenix</td>\n",
       "      <td>28.0</td>\n",
       "      <td>382051</td>\n",
       "      <td>194081.39</td>\n",
       "      <td>167511.96</td>\n",
       "      <td>2015</td>\n",
       "      <td>5.434279</td>\n",
       "    </tr>\n",
       "    <tr>\n",
       "      <th>2</th>\n",
       "      <td>001 - HEART TRANSPLANT OR IMPLANT OF HEART ASS...</td>\n",
       "      <td>50025</td>\n",
       "      <td>UNIVERSITY OF CALIFORNIA SAN DIEGO MEDICAL CENTER</td>\n",
       "      <td>200 WEST ARBOR DRIVE</td>\n",
       "      <td>SAN DIEGO</td>\n",
       "      <td>CA</td>\n",
       "      <td>92103</td>\n",
       "      <td>CA - San Diego</td>\n",
       "      <td>21.0</td>\n",
       "      <td>971881.48</td>\n",
       "      <td>324050.71</td>\n",
       "      <td>294419.62</td>\n",
       "      <td>2015</td>\n",
       "      <td>6.805065</td>\n",
       "    </tr>\n",
       "    <tr>\n",
       "      <th>3</th>\n",
       "      <td>001 - HEART TRANSPLANT OR IMPLANT OF HEART ASS...</td>\n",
       "      <td>50100</td>\n",
       "      <td>SHARP MEMORIAL HOSPITAL</td>\n",
       "      <td>7901 FROST ST</td>\n",
       "      <td>SAN DIEGO</td>\n",
       "      <td>CA</td>\n",
       "      <td>92123</td>\n",
       "      <td>CA - San Diego</td>\n",
       "      <td>18.0</td>\n",
       "      <td>1517857.61</td>\n",
       "      <td>257177.33</td>\n",
       "      <td>233532.83</td>\n",
       "      <td>2015</td>\n",
       "      <td>4.629192</td>\n",
       "    </tr>\n",
       "    <tr>\n",
       "      <th>4</th>\n",
       "      <td>001 - HEART TRANSPLANT OR IMPLANT OF HEART ASS...</td>\n",
       "      <td>50108</td>\n",
       "      <td>SUTTER MEDICAL CENTER, SACRAMENTO</td>\n",
       "      <td>2825 CAPITOL AVENUE</td>\n",
       "      <td>SACRAMENTO</td>\n",
       "      <td>CA</td>\n",
       "      <td>95816</td>\n",
       "      <td>CA - Sacramento</td>\n",
       "      <td>17.0</td>\n",
       "      <td>1470341.06</td>\n",
       "      <td>346150.12</td>\n",
       "      <td>338472</td>\n",
       "      <td>2015</td>\n",
       "      <td>5.884552</td>\n",
       "    </tr>\n",
       "  </tbody>\n",
       "</table>\n",
       "</div>"
      ],
      "text/plain": [
       "                                      DRG Definition Provider Id  \\\n",
       "0  001 - HEART TRANSPLANT OR IMPLANT OF HEART ASS...       10033   \n",
       "1  001 - HEART TRANSPLANT OR IMPLANT OF HEART ASS...       30103   \n",
       "2  001 - HEART TRANSPLANT OR IMPLANT OF HEART ASS...       50025   \n",
       "3  001 - HEART TRANSPLANT OR IMPLANT OF HEART ASS...       50100   \n",
       "4  001 - HEART TRANSPLANT OR IMPLANT OF HEART ASS...       50108   \n",
       "\n",
       "                                       Provider Name  \\\n",
       "0                     UNIVERSITY OF ALABAMA HOSPITAL   \n",
       "1                               MAYO CLINIC HOSPITAL   \n",
       "2  UNIVERSITY OF CALIFORNIA SAN DIEGO MEDICAL CENTER   \n",
       "3                            SHARP MEMORIAL HOSPITAL   \n",
       "4                  SUTTER MEDICAL CENTER, SACRAMENTO   \n",
       "\n",
       "    Provider Street Address Provider City Provider State Provider Zip Code  \\\n",
       "0     619 SOUTH 19TH STREET    BIRMINGHAM             AL             35233   \n",
       "1  5777 EAST MAYO BOULEVARD       PHOENIX             AZ             85054   \n",
       "2      200 WEST ARBOR DRIVE     SAN DIEGO             CA             92103   \n",
       "3             7901 FROST ST     SAN DIEGO             CA             92123   \n",
       "4       2825 CAPITOL AVENUE    SACRAMENTO             CA             95816   \n",
       "\n",
       "  Hospital Referral Region (HRR) Description  Total Discharges  \\\n",
       "0                            AL - Birmingham              11.0   \n",
       "1                               AZ - Phoenix              28.0   \n",
       "2                             CA - San Diego              21.0   \n",
       "3                             CA - San Diego              18.0   \n",
       "4                            CA - Sacramento              17.0   \n",
       "\n",
       "  Average Covered Charges  Average Total Payments Average Medicare Payments  \\\n",
       "0              1014783.45               171081.18                 141193.91   \n",
       "1                  382051               194081.39                 167511.96   \n",
       "2               971881.48               324050.71                 294419.62   \n",
       "3              1517857.61               257177.33                 233532.83   \n",
       "4              1470341.06               346150.12                    338472   \n",
       "\n",
       "   year  Total Payments  \n",
       "0  2015        1.881893  \n",
       "1  2015        5.434279  \n",
       "2  2015        6.805065  \n",
       "3  2015        4.629192  \n",
       "4  2015        5.884552  "
      ]
     },
     "execution_count": 8,
     "metadata": {},
     "output_type": "execute_result"
    }
   ],
   "source": [
    "#opps.head(n= 4)\n",
    "ipps.head(n=5)"
   ]
  },
  {
   "cell_type": "code",
   "execution_count": 9,
   "metadata": {},
   "outputs": [
    {
     "name": "stdout",
     "output_type": "stream",
     "text": [
      "(3245, 7)\n",
      "(3868, 7)\n"
     ]
    }
   ],
   "source": [
    "# Sum all charge for every hospital for both OPPS and IPPS\n",
    "opps_uniq = opps.groupby('Provider ID').agg({'Medicare Allowed Amount':'sum', 'Provider Name':'first', 'Provider Street Address':'first'\n",
    "                                            , 'Provider City':'first', 'Provider State':'first', 'Provider Zip Code':'first'})\n",
    "ipps_uniq = ipps.groupby('Provider Id').agg({'Total Payments':'sum', 'Provider Name':'first', 'Provider Street Address':'first'\n",
    "                                            , 'Provider City':'first', 'Provider State':'first', 'Provider Zip Code':'first'})\n",
    "ipps_uniq.reset_index(inplace=True)\n",
    "opps_uniq.reset_index(inplace=True)\n",
    "print(opps_uniq.shape)\n",
    "print(ipps_uniq.shape)"
   ]
  },
  {
   "cell_type": "code",
   "execution_count": 10,
   "metadata": {
    "scrolled": false
   },
   "outputs": [
    {
     "name": "stdout",
     "output_type": "stream",
     "text": [
      "1598\n",
      "3868\n",
      "3245\n"
     ]
    }
   ],
   "source": [
    "# number of unique labelled hospital\n",
    "print(main_data['Medicare Provider Number'].nunique())\n",
    "# number of unique hospital in IPPS and OPPS\n",
    "print(ipps['Provider Id'].nunique())\n",
    "print(opps['Provider ID'].nunique())"
   ]
  },
  {
   "cell_type": "code",
   "execution_count": 11,
   "metadata": {},
   "outputs": [
    {
     "data": {
      "text/html": [
       "<div>\n",
       "<style scoped>\n",
       "    .dataframe tbody tr th:only-of-type {\n",
       "        vertical-align: middle;\n",
       "    }\n",
       "\n",
       "    .dataframe tbody tr th {\n",
       "        vertical-align: top;\n",
       "    }\n",
       "\n",
       "    .dataframe thead th {\n",
       "        text-align: right;\n",
       "    }\n",
       "</style>\n",
       "<table border=\"1\" class=\"dataframe\">\n",
       "  <thead>\n",
       "    <tr style=\"text-align: right;\">\n",
       "      <th></th>\n",
       "      <th>Provider ID</th>\n",
       "      <th>Medicare Allowed Amount</th>\n",
       "      <th>Provider Name</th>\n",
       "      <th>Provider Street Address</th>\n",
       "      <th>Provider City</th>\n",
       "      <th>Provider State</th>\n",
       "      <th>Provider Zip Code</th>\n",
       "    </tr>\n",
       "  </thead>\n",
       "  <tbody>\n",
       "    <tr>\n",
       "      <th>0</th>\n",
       "      <td>100001</td>\n",
       "      <td>13.658796</td>\n",
       "      <td>Uf Health Jacksonville</td>\n",
       "      <td>655 W 8th St</td>\n",
       "      <td>Jacksonville</td>\n",
       "      <td>FL</td>\n",
       "      <td>32209</td>\n",
       "    </tr>\n",
       "    <tr>\n",
       "      <th>1</th>\n",
       "      <td>100002</td>\n",
       "      <td>29.696185</td>\n",
       "      <td>Bethesda Hospital East</td>\n",
       "      <td>2815 S Seacrest Blvd</td>\n",
       "      <td>Boynton Beach</td>\n",
       "      <td>FL</td>\n",
       "      <td>33435</td>\n",
       "    </tr>\n",
       "    <tr>\n",
       "      <th>2</th>\n",
       "      <td>100006</td>\n",
       "      <td>55.555147</td>\n",
       "      <td>Orlando Health</td>\n",
       "      <td>52 W Underwood St</td>\n",
       "      <td>Orlando</td>\n",
       "      <td>FL</td>\n",
       "      <td>32806</td>\n",
       "    </tr>\n",
       "    <tr>\n",
       "      <th>3</th>\n",
       "      <td>100007</td>\n",
       "      <td>120.478663</td>\n",
       "      <td>Florida Hospital</td>\n",
       "      <td>601 E Rollins St</td>\n",
       "      <td>Orlando</td>\n",
       "      <td>FL</td>\n",
       "      <td>32803</td>\n",
       "    </tr>\n",
       "    <tr>\n",
       "      <th>4</th>\n",
       "      <td>100008</td>\n",
       "      <td>22.436393</td>\n",
       "      <td>Baptist Hospital Of Miami</td>\n",
       "      <td>8900 N Kendall Dr</td>\n",
       "      <td>Miami</td>\n",
       "      <td>FL</td>\n",
       "      <td>33176</td>\n",
       "    </tr>\n",
       "  </tbody>\n",
       "</table>\n",
       "</div>"
      ],
      "text/plain": [
       "  Provider ID  Medicare Allowed Amount              Provider Name  \\\n",
       "0      100001                13.658796     Uf Health Jacksonville   \n",
       "1      100002                29.696185     Bethesda Hospital East   \n",
       "2      100006                55.555147             Orlando Health   \n",
       "3      100007               120.478663           Florida Hospital   \n",
       "4      100008                22.436393  Baptist Hospital Of Miami   \n",
       "\n",
       "  Provider Street Address  Provider City Provider State Provider Zip Code  \n",
       "0            655 W 8th St   Jacksonville             FL             32209  \n",
       "1    2815 S Seacrest Blvd  Boynton Beach             FL             33435  \n",
       "2       52 W Underwood St        Orlando             FL             32806  \n",
       "3        601 E Rollins St        Orlando             FL             32803  \n",
       "4       8900 N Kendall Dr          Miami             FL             33176  "
      ]
     },
     "execution_count": 11,
     "metadata": {},
     "output_type": "execute_result"
    }
   ],
   "source": [
    "opps_uniq.head(n=5)"
   ]
  },
  {
   "cell_type": "code",
   "execution_count": 12,
   "metadata": {
    "scrolled": true
   },
   "outputs": [
    {
     "name": "stdout",
     "output_type": "stream",
     "text": [
      "(4150, 29)\n"
     ]
    }
   ],
   "source": [
    "# merge IPPS data with main data\n",
    "df = pd.merge(ipps_uniq,main_data, how='outer',left_on='Provider Id',right_on='Medicare Provider Number')\n",
    "print(df.shape)"
   ]
  },
  {
   "cell_type": "code",
   "execution_count": 13,
   "metadata": {},
   "outputs": [],
   "source": [
    "# fill in missing value for Medicare IPPS from IPPS dataset\n",
    "df['Simulated Medicare Allowed Amount for Inpatient Services ($ Millions)'] = np.where(df['Simulated Medicare Allowed Amount for Inpatient Services ($ Millions)'] == 'nan', df['Total Payments'], df['Simulated Medicare Allowed Amount for Inpatient Services ($ Millions)'])\n",
    "df['Simulated Medicare Allowed Amount for Inpatient Services ($ Millions)'].fillna(df['Total Payments'],inplace=True)\n",
    "df['Medicare Provider Number'].fillna(df['Provider Id'],inplace=True)\n",
    "#df.head(n=5)\n",
    "df.to_csv('file1.csv')\n",
    "# number of hospital without label in main data but no info in IPPS datasets\n",
    "#np.sum(df['Simulated Medicare Allowed Amount for Inpatient Services ($ Millions)'].isnull())"
   ]
  },
  {
   "cell_type": "code",
   "execution_count": 14,
   "metadata": {},
   "outputs": [
    {
     "name": "stdout",
     "output_type": "stream",
     "text": [
      "(4243, 36)\n"
     ]
    },
    {
     "data": {
      "text/html": [
       "<div>\n",
       "<style scoped>\n",
       "    .dataframe tbody tr th:only-of-type {\n",
       "        vertical-align: middle;\n",
       "    }\n",
       "\n",
       "    .dataframe tbody tr th {\n",
       "        vertical-align: top;\n",
       "    }\n",
       "\n",
       "    .dataframe thead th {\n",
       "        text-align: right;\n",
       "    }\n",
       "</style>\n",
       "<table border=\"1\" class=\"dataframe\">\n",
       "  <thead>\n",
       "    <tr style=\"text-align: right;\">\n",
       "      <th></th>\n",
       "      <th>Provider ID</th>\n",
       "      <th>Medicare Allowed Amount</th>\n",
       "      <th>Provider Name_x</th>\n",
       "      <th>Provider Street Address_x</th>\n",
       "      <th>Provider City_x</th>\n",
       "      <th>Provider State_x</th>\n",
       "      <th>Provider Zip Code_x</th>\n",
       "      <th>Provider Id</th>\n",
       "      <th>Total Payments</th>\n",
       "      <th>Provider Name_y</th>\n",
       "      <th>...</th>\n",
       "      <th>Relative Price for Outpatient Services</th>\n",
       "      <th>Standardized Price per Outpatient Service</th>\n",
       "      <th>Number of Inpatient Stays</th>\n",
       "      <th>Total Private Allowed Amount for Inpatient Services ($ Millions)</th>\n",
       "      <th>Simulated Medicare Allowed Amount for Inpatient Services ($ Millions)</th>\n",
       "      <th>Relative Price for Inpatient Services</th>\n",
       "      <th>Standardized Price per Inpatient Stay</th>\n",
       "      <th>Total Private Allowed Amount for Inpatient and Outpatient Services ($ Millions)</th>\n",
       "      <th>Simulated Medicare Allowed Amount for Inpatient and Outpatient Services ($ Millions)</th>\n",
       "      <th>Relative Price for Inpatient and Outpatient Services</th>\n",
       "    </tr>\n",
       "  </thead>\n",
       "  <tbody>\n",
       "    <tr>\n",
       "      <th>0</th>\n",
       "      <td>100001</td>\n",
       "      <td>13.658796</td>\n",
       "      <td>Uf Health Jacksonville</td>\n",
       "      <td>655 W 8th St</td>\n",
       "      <td>Jacksonville</td>\n",
       "      <td>FL</td>\n",
       "      <td>32209</td>\n",
       "      <td>100001</td>\n",
       "      <td>200.137678</td>\n",
       "      <td>UF HEALTH JACKSONVILLE</td>\n",
       "      <td>...</td>\n",
       "      <td>389</td>\n",
       "      <td>271.28</td>\n",
       "      <td>NaN</td>\n",
       "      <td>NaN</td>\n",
       "      <td>200.138</td>\n",
       "      <td>NaN</td>\n",
       "      <td>NaN</td>\n",
       "      <td>NaN</td>\n",
       "      <td>NaN</td>\n",
       "      <td>NaN</td>\n",
       "    </tr>\n",
       "    <tr>\n",
       "      <th>1</th>\n",
       "      <td>100002</td>\n",
       "      <td>29.696185</td>\n",
       "      <td>Bethesda Hospital East</td>\n",
       "      <td>2815 S Seacrest Blvd</td>\n",
       "      <td>Boynton Beach</td>\n",
       "      <td>FL</td>\n",
       "      <td>33435</td>\n",
       "      <td>100002</td>\n",
       "      <td>160.427384</td>\n",
       "      <td>BETHESDA HOSPITAL EAST</td>\n",
       "      <td>...</td>\n",
       "      <td>173</td>\n",
       "      <td>123.54</td>\n",
       "      <td>444</td>\n",
       "      <td>4.8</td>\n",
       "      <td>3.7</td>\n",
       "      <td>131</td>\n",
       "      <td>8635</td>\n",
       "      <td>7.8</td>\n",
       "      <td>5.4</td>\n",
       "      <td>144</td>\n",
       "    </tr>\n",
       "    <tr>\n",
       "      <th>2</th>\n",
       "      <td>100006</td>\n",
       "      <td>55.555147</td>\n",
       "      <td>Orlando Health</td>\n",
       "      <td>52 W Underwood St</td>\n",
       "      <td>Orlando</td>\n",
       "      <td>FL</td>\n",
       "      <td>32806</td>\n",
       "      <td>100006</td>\n",
       "      <td>455.955546</td>\n",
       "      <td>ORLANDO HEALTH</td>\n",
       "      <td>...</td>\n",
       "      <td>441</td>\n",
       "      <td>300.66</td>\n",
       "      <td>NaN</td>\n",
       "      <td>NaN</td>\n",
       "      <td>455.956</td>\n",
       "      <td>NaN</td>\n",
       "      <td>NaN</td>\n",
       "      <td>NaN</td>\n",
       "      <td>NaN</td>\n",
       "      <td>NaN</td>\n",
       "    </tr>\n",
       "    <tr>\n",
       "      <th>3</th>\n",
       "      <td>100007</td>\n",
       "      <td>120.478663</td>\n",
       "      <td>Florida Hospital</td>\n",
       "      <td>601 E Rollins St</td>\n",
       "      <td>Orlando</td>\n",
       "      <td>FL</td>\n",
       "      <td>32803</td>\n",
       "      <td>100007</td>\n",
       "      <td>1397.345745</td>\n",
       "      <td>FLORIDA HOSPITAL</td>\n",
       "      <td>...</td>\n",
       "      <td>487</td>\n",
       "      <td>338.03</td>\n",
       "      <td>24</td>\n",
       "      <td>0.5</td>\n",
       "      <td>0.2</td>\n",
       "      <td>250</td>\n",
       "      <td>15884</td>\n",
       "      <td>0.9</td>\n",
       "      <td>0.3</td>\n",
       "      <td>314</td>\n",
       "    </tr>\n",
       "    <tr>\n",
       "      <th>4</th>\n",
       "      <td>100008</td>\n",
       "      <td>22.436393</td>\n",
       "      <td>Baptist Hospital Of Miami</td>\n",
       "      <td>8900 N Kendall Dr</td>\n",
       "      <td>Miami</td>\n",
       "      <td>FL</td>\n",
       "      <td>33176</td>\n",
       "      <td>100008</td>\n",
       "      <td>220.420860</td>\n",
       "      <td>BAPTIST HOSPITAL OF MIAMI</td>\n",
       "      <td>...</td>\n",
       "      <td>395</td>\n",
       "      <td>278.51</td>\n",
       "      <td>NaN</td>\n",
       "      <td>NaN</td>\n",
       "      <td>220.421</td>\n",
       "      <td>NaN</td>\n",
       "      <td>NaN</td>\n",
       "      <td>NaN</td>\n",
       "      <td>NaN</td>\n",
       "      <td>NaN</td>\n",
       "    </tr>\n",
       "  </tbody>\n",
       "</table>\n",
       "<p>5 rows × 36 columns</p>\n",
       "</div>"
      ],
      "text/plain": [
       "  Provider ID  Medicare Allowed Amount            Provider Name_x  \\\n",
       "0      100001                13.658796     Uf Health Jacksonville   \n",
       "1      100002                29.696185     Bethesda Hospital East   \n",
       "2      100006                55.555147             Orlando Health   \n",
       "3      100007               120.478663           Florida Hospital   \n",
       "4      100008                22.436393  Baptist Hospital Of Miami   \n",
       "\n",
       "  Provider Street Address_x Provider City_x Provider State_x  \\\n",
       "0              655 W 8th St    Jacksonville               FL   \n",
       "1      2815 S Seacrest Blvd   Boynton Beach               FL   \n",
       "2         52 W Underwood St         Orlando               FL   \n",
       "3          601 E Rollins St         Orlando               FL   \n",
       "4         8900 N Kendall Dr           Miami               FL   \n",
       "\n",
       "  Provider Zip Code_x Provider Id  Total Payments            Provider Name_y  \\\n",
       "0               32209      100001      200.137678     UF HEALTH JACKSONVILLE   \n",
       "1               33435      100002      160.427384     BETHESDA HOSPITAL EAST   \n",
       "2               32806      100006      455.955546             ORLANDO HEALTH   \n",
       "3               32803      100007     1397.345745           FLORIDA HOSPITAL   \n",
       "4               33176      100008      220.420860  BAPTIST HOSPITAL OF MIAMI   \n",
       "\n",
       "   ... Relative Price for Outpatient Services  \\\n",
       "0  ...                                    389   \n",
       "1  ...                                    173   \n",
       "2  ...                                    441   \n",
       "3  ...                                    487   \n",
       "4  ...                                    395   \n",
       "\n",
       "  Standardized Price per Outpatient Service Number of Inpatient Stays  \\\n",
       "0                                    271.28                       NaN   \n",
       "1                                    123.54                       444   \n",
       "2                                    300.66                       NaN   \n",
       "3                                    338.03                        24   \n",
       "4                                    278.51                       NaN   \n",
       "\n",
       "  Total Private Allowed Amount for Inpatient Services ($ Millions)  \\\n",
       "0                                                NaN                 \n",
       "1                                                4.8                 \n",
       "2                                                NaN                 \n",
       "3                                                0.5                 \n",
       "4                                                NaN                 \n",
       "\n",
       "  Simulated Medicare Allowed Amount for Inpatient Services ($ Millions)  \\\n",
       "0                                            200.138                      \n",
       "1                                                3.7                      \n",
       "2                                            455.956                      \n",
       "3                                                0.2                      \n",
       "4                                            220.421                      \n",
       "\n",
       "  Relative Price for Inpatient Services Standardized Price per Inpatient Stay  \\\n",
       "0                                   NaN                                   NaN   \n",
       "1                                   131                                  8635   \n",
       "2                                   NaN                                   NaN   \n",
       "3                                   250                                 15884   \n",
       "4                                   NaN                                   NaN   \n",
       "\n",
       "  Total Private Allowed Amount for Inpatient and Outpatient Services ($ Millions)  \\\n",
       "0                                                NaN                                \n",
       "1                                                7.8                                \n",
       "2                                                NaN                                \n",
       "3                                                0.9                                \n",
       "4                                                NaN                                \n",
       "\n",
       "  Simulated Medicare Allowed Amount for Inpatient and Outpatient Services ($ Millions)  \\\n",
       "0                                                NaN                                     \n",
       "1                                                5.4                                     \n",
       "2                                                NaN                                     \n",
       "3                                                0.3                                     \n",
       "4                                                NaN                                     \n",
       "\n",
       "  Relative Price for Inpatient and Outpatient Services  \n",
       "0                                                NaN    \n",
       "1                                                144    \n",
       "2                                                NaN    \n",
       "3                                                314    \n",
       "4                                                NaN    \n",
       "\n",
       "[5 rows x 36 columns]"
      ]
     },
     "execution_count": 14,
     "metadata": {},
     "output_type": "execute_result"
    }
   ],
   "source": [
    "# merge OPPS data with main data\n",
    "df2 = pd.merge(opps_uniq,df, how='outer',left_on='Provider ID',right_on='Medicare Provider Number')\n",
    "print(df2.shape)\n",
    "df2.head(n=5)"
   ]
  },
  {
   "cell_type": "code",
   "execution_count": 15,
   "metadata": {},
   "outputs": [],
   "source": [
    "# fill in missing value for Medicare OPPS from OPPS dataset\n",
    "df2['Simulated Medicare Allowed Amount for Outpatient Services ($ Millions)'] = np.where(df2['Simulated Medicare Allowed Amount for Outpatient Services ($ Millions)'] == 'nan', df2['Medicare Allowed Amount'], df2['Simulated Medicare Allowed Amount for Outpatient Services ($ Millions)'])\n",
    "df2['Simulated Medicare Allowed Amount for Outpatient Services ($ Millions)'].fillna(df2['Medicare Allowed Amount'],inplace=True)\n",
    "df2['Medicare Provider Number'].fillna(df2['Provider ID'],inplace=True)\n",
    "df2.head(n=5)\n",
    "# number of hospital without label in main data but no info in OPPS datasets\n",
    "#np.sum(df2['Simulated Medicare Allowed Amount for Outpatient Services ($ Millions)'].isnull())"
   ]
  },
  {
   "cell_type": "code",
   "execution_count": 33,
   "metadata": {},
   "outputs": [],
   "source": [
    "idx = df2['Simulated Medicare Allowed Amount for Inpatient Services ($ Millions)'].isnull()\n",
    "dt = df2[~idx].reset_index(drop=True)\n",
    "idx = dt['Relative Price for Inpatient and Outpatient Services'].isnull()\n",
    "dt = dt[~idx].reset_index(drop=True)\n",
    "idx = df2['Simulated Medicare Allowed Amount for Outpatient Services ($ Millions)'].isnull()\n",
    "dt2 = df2[~idx].reset_index(drop=True)\n",
    "idx = dt2['Relative Price for Inpatient and Outpatient Services'].isnull()\n",
    "dt2 = dt2[~idx].reset_index(drop=True)"
   ]
  },
  {
   "cell_type": "code",
   "execution_count": 29,
   "metadata": {},
   "outputs": [
    {
     "name": "stdout",
     "output_type": "stream",
     "text": [
      "(726, 36)\n",
      "(726, 36)\n"
     ]
    }
   ],
   "source": [
    "print(dt.shape)\n",
    "print(dt2.shape)"
   ]
  },
  {
   "cell_type": "code",
   "execution_count": 30,
   "metadata": {},
   "outputs": [],
   "source": [
    "import seaborn as sns"
   ]
  },
  {
   "cell_type": "code",
   "execution_count": 42,
   "metadata": {},
   "outputs": [
    {
     "data": {
      "text/plain": [
       "71.2"
      ]
     },
     "execution_count": 42,
     "metadata": {},
     "output_type": "execute_result"
    }
   ],
   "source": [
    "np.max(dt['Sim_OP'].values)"
   ]
  },
  {
   "cell_type": "code",
   "execution_count": 67,
   "metadata": {
    "scrolled": false
   },
   "outputs": [
    {
     "name": "stderr",
     "output_type": "stream",
     "text": [
      "<ipython-input-67-9b245c2ac7cd>:7: RuntimeWarning: divide by zero encountered in log\n",
      "  plt.scatter(np.log(dt['Sim_OP'].values),(dt['RP']))\n"
     ]
    },
    {
     "data": {
      "image/png": "[encoded data removed]",
      "text/plain": [
       "<Figure size 432x288 with 1 Axes>"
      ]
     },
     "metadata": {
      "needs_background": "light"
     },
     "output_type": "display_data"
    },
    {
     "data": {
      "image/png": "[encoded data removed]",
      "text/plain": [
       "<Figure size 432x288 with 1 Axes>"
      ]
     },
     "metadata": {
      "needs_background": "light"
     },
     "output_type": "display_data"
    }
   ],
   "source": [
    "cols = ['Simulated Medicare Allowed Amount for Outpatient Services ($ Millions)','Relative Price for Inpatient and Outpatient Services']\n",
    "# print(dt)\n",
    "dt['RP'] = dt['Relative Price for Inpatient and Outpatient Services'].astype(float)\n",
    "dt['Sim_OP'] = dt['Simulated Medicare Allowed Amount for Outpatient Services ($ Millions)'].astype(float)\n",
    "cols2 = ['Simulated Medicare Allowed Amount for Outpatient Services ($ Millions)','Relative Price for Inpatient and Outpatient Services']\n",
    "\n",
    "plt.scatter(np.log(dt['Sim_OP'].values),(dt['RP']))\n",
    "plt.ylabel('Relative price')\n",
    "plt.xlabel('log of Simulated OP amnt')\n",
    "plt.savefig('Correlation_of_log_OP')\n",
    "plt.show()\n",
    "plt.scatter(dt['Sim_OP'],dt['RP'])\n",
    "plt.ylabel('Relative price')\n",
    "plt.xlabel('Simulated OP amnt')\n",
    "plt.savefig('Correlation_of_OP')\n",
    "plt.show()"
   ]
  },
  {
   "cell_type": "code",
   "execution_count": 51,
   "metadata": {
    "scrolled": false
   },
   "outputs": [
    {
     "data": {
      "text/plain": [
       "array([[1.        , 0.02029973],\n",
       "       [0.02029973, 1.        ]])"
      ]
     },
     "execution_count": 51,
     "metadata": {},
     "output_type": "execute_result"
    }
   ],
   "source": [
    "np.corrcoef(np.log(dt['Sim_OP'].values+np.random.random(dt.shape[0])),np.log(dt['RP'].values+np.random.random(dt.shape[0])))"
   ]
  },
  {
   "cell_type": "code",
   "execution_count": 52,
   "metadata": {},
   "outputs": [
    {
     "data": {
      "text/plain": [
       "array([[1.        , 0.00954456],\n",
       "       [0.00954456, 1.        ]])"
      ]
     },
     "execution_count": 52,
     "metadata": {},
     "output_type": "execute_result"
    }
   ],
   "source": [
    "np.corrcoef((dt['Sim_OP'].values+np.random.random(dt.shape[0])),(dt['RP'].values+np.random.random(dt.shape[0])))"
   ]
  },
  {
   "cell_type": "code",
   "execution_count": 66,
   "metadata": {},
   "outputs": [
    {
     "name": "stderr",
     "output_type": "stream",
     "text": [
      "<ipython-input-66-7d28d59162f0>:7: RuntimeWarning: divide by zero encountered in log\n",
      "  plt.scatter(np.log(dt2['Sim_IP'].values),(dt2['RP']))\n"
     ]
    },
    {
     "data": {
      "image/png": "[encoded data removed]",
      "text/plain": [
       "<Figure size 432x288 with 1 Axes>"
      ]
     },
     "metadata": {
      "needs_background": "light"
     },
     "output_type": "display_data"
    },
    {
     "data": {
      "text/plain": [
       "Text(0.5, 0, 'Simulated OP amnt')"
      ]
     },
     "execution_count": 66,
     "metadata": {},
     "output_type": "execute_result"
    },
    {
     "data": {
      "image/png": "[encoded data removed]",
      "text/plain": [
       "<Figure size 432x288 with 1 Axes>"
      ]
     },
     "metadata": {
      "needs_background": "light"
     },
     "output_type": "display_data"
    }
   ],
   "source": [
    "cols = ['Simulated Medicare Allowed Amount for Outpatient Services ($ Millions)','Relative Price for Inpatient and Outpatient Services']\n",
    "# print(dt)\n",
    "dt2['RP'] = dt2['Relative Price for Inpatient and Outpatient Services'].astype(float)\n",
    "dt2['Sim_IP'] = dt2['Simulated Medicare Allowed Amount for Outpatient Services ($ Millions)'].astype(float)\n",
    "cols2 = ['Simulated Medicare Allowed Amount for Outpatient Services ($ Millions)','Relative Price for Inpatient and Outpatient Services']\n",
    "\n",
    "plt.scatter(np.log(dt2['Sim_IP'].values),(dt2['RP']))\n",
    "plt.ylabel('Relative price')\n",
    "plt.xlabel('log of Simulated OP amnt')\n",
    "plt.show()\n",
    "plt.scatter(dt2['Sim_IP'],dt2['RP'])\n",
    "plt.ylabel('Relative price')\n",
    "plt.xlabel('Simulated IP amnt')"
   ]
  },
  {
   "cell_type": "code",
   "execution_count": null,
   "metadata": {},
   "outputs": [],
   "source": []
  }
 ],
 "metadata": {
  "kernelspec": {
   "display_name": "Python 3",
   "language": "python",
   "name": "python3"
  },
  "language_info": {
   "codemirror_mode": {
    "name": "ipython",
    "version": 3
   },
   "file_extension": ".py",
   "mimetype": "text/x-python",
   "name": "python",
   "nbconvert_exporter": "python",
   "pygments_lexer": "ipython3",
   "version": "3.8.5"
  }
 },
 "nbformat": 4,
 "nbformat_minor": 4
}
