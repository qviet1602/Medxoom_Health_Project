{
 "cells": [
  {
   "cell_type": "code",
   "execution_count": 1,
   "metadata": {},
   "outputs": [],
   "source": [
    "import numpy as np\n",
    "import pandas as pd\n",
    "from matplotlib import pyplot as plt\n",
    "from sklearn.linear_model import LinearRegression\n",
    "from sklearn.model_selection import train_test_split\n",
    "from sklearn.preprocessing import LabelEncoder\n",
    "from sklearn.metrics import mean_squared_error, r2_score"
   ]
  },
  {
   "cell_type": "markdown",
   "metadata": {},
   "source": [
    "<h1> Merging all data"
   ]
  },
  {
   "cell_type": "code",
   "execution_count": 2,
   "metadata": {},
   "outputs": [
    {
     "name": "stdout",
     "output_type": "stream",
     "text": [
      "IPPS shape :  (3294, 13)\n",
      "OPPS shape :  (3246, 16)\n",
      "Detailed data shape :  (3329, 30)\n",
      "Rand data shape :  (1628, 31)\n",
      "Final merged data shape :  (3329, 87)\n"
     ]
    }
   ],
   "source": [
    "def merging_all():\n",
    "    \n",
    "    ipps = pd.read_csv('../gtmsa_practicum_datasets/IPPS_final_data.csv',dtype=str)\n",
    "    opps = pd.read_csv('../gtmsa_practicum_datasets/OPPS_final_data.csv',dtype=str)\n",
    "    det = pd.read_csv('../gtmsa_practicum_datasets/detailed_final_data.csv',dtype=str)\n",
    "    rand = pd.read_csv('../gtmsa_practicum_datasets/rand_final_data2.csv',dtype=str)\n",
    "    \n",
    "    df = pd.merge(det,ipps,how='left')\n",
    "    df = pd.merge(df,opps,how='left')\n",
    "    df = pd.merge(df,rand,how='left')\n",
    "    \n",
    "    print('IPPS shape : ',ipps.shape)\n",
    "    print('OPPS shape : ',opps.shape)\n",
    "    print('Detailed data shape : ',det.shape)\n",
    "    print('Rand data shape : ',rand.shape)\n",
    "\n",
    "    print('Final merged data shape : ',df.shape)\n",
    "    \n",
    "    return df\n",
    "merged_data = merging_all()\n",
    "merged_data.to_csv('../gtmsa_practicum_datasets/merged_final_data.csv',index=False)"
   ]
  },
  {
   "cell_type": "code",
   "execution_count": null,
   "metadata": {},
   "outputs": [],
   "source": []
  }
 ],
 "metadata": {
  "kernelspec": {
   "display_name": "Python 3",
   "language": "python",
   "name": "python3"
  },
  "language_info": {
   "codemirror_mode": {
    "name": "ipython",
    "version": 3
   },
   "file_extension": ".py",
   "mimetype": "text/x-python",
   "name": "python",
   "nbconvert_exporter": "python",
   "pygments_lexer": "ipython3",
   "version": "3.8.5"
  }
 },
 "nbformat": 4,
 "nbformat_minor": 4
}
