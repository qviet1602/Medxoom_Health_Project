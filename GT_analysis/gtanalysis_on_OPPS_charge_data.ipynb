{
 "cells": [
  {
   "cell_type": "code",
   "execution_count": 1,
   "metadata": {},
   "outputs": [],
   "source": [
    "import numpy as np\n",
    "import pandas as pd\n",
    "from matplotlib import pyplot as plt"
   ]
  },
  {
   "cell_type": "code",
   "execution_count": 2,
   "metadata": {},
   "outputs": [],
   "source": [
    "def load_Provider_charge_data(p):\n",
    "    files = ['Outpatient_Data_2011_XLSX/Medicare_Provider_Charge_Outpatient_APC30_CY2011_v2.xlsx',\n",
    "             'Outpatient_Data_2012_XLSX/Medicare_Provider_Charge_Outpatient_APC30_CY2012.xlsx',\n",
    "             'Medicare_Provider_Charge_Outpatient_APC30_CY2013_v2_xlsx/Medicare_Provider_Charge_Outpatient_APC30_CY2013_v2.xlsx',\n",
    "             'Medicare_Provider_Charge_Outpatient_APC32_CY2014.xlsx']\n",
    "    df = pd.DataFrame([])\n",
    "    for index,file in enumerate(files):\n",
    "        db = pd.read_excel(p+file,skiprows=6,converters={'Provider ID':str})\n",
    "        db['year'] = 2011+index\n",
    "        df = df.append(db)\n",
    "    df.rename(columns = {'Provider Id':'Provider ID'},inplace=True)\n",
    "    return df"
   ]
  },
  {
   "cell_type": "code",
   "execution_count": 3,
   "metadata": {},
   "outputs": [],
   "source": [
    "def load_APC_Provider_Data(p):\n",
    "    files = ['MUP_OHP_R19_P04_V10_D15_APC_Provider.xlsx',\n",
    "             'MUP_OHP_R19_P04_V10_D16_APC_Provider.xlsx',\n",
    "             'MUP_OHP_R19_P04_V10_D17_APC_Provider.xlsx']\n",
    "    df = pd.DataFrame([])\n",
    "    cols = ['Average Estimated Total Submitted Charges', 'Average Medicare Allowed Amount', \n",
    "'Average Medicare Payment Amount', 'Outlier Comprehensive APC Services', 'Average Medicare Outlier Amount']\n",
    "    for index,file in enumerate(files):\n",
    "        db = pd.read_excel(p+file,skiprows=5,dtype=str)\n",
    "        db['year'] = 2015+index\n",
    "        db.columns=db.columns.str.replace('\\n',' ') \n",
    "        df = df.append(db)\n",
    "    for col in cols:\n",
    "        df[col] = pd.to_numeric(df[col])\n",
    "    return df"
   ]
  },
  {
   "cell_type": "code",
   "execution_count": 4,
   "metadata": {},
   "outputs": [],
   "source": [
    "def load_detailed_dataset():\n",
    "    db = pd.read_excel('../gtmsa_practicum_datasets/Detail_Data_new.xlsx',\n",
    "                        sheet_name='Table 1. PF Hospitals',skiprows=9,dtype=str)\n",
    "    db.columns=db.columns.str.replace('\\n',' ')\n",
    "    db.columns = db.columns.str.lower()\n",
    "    df = pd.read_excel('../gtmsa_practicum_datasets/Detailed_Data.xlsx',\n",
    "                        sheet_name='Table 1. Hospitals',skiprows=16,dtype=str)\n",
    "    df.columns=df.columns.str.replace('\\n',' ')\n",
    "    df.columns = df.columns.str.lower()\n",
    "    \n",
    "    dt = pd.concat([db,df])\n",
    "    dt = dt.drop_duplicates(subset=(['medicare provider number']),keep='first')\n",
    "    print('Final detailed data shape :',dt.shape)\n",
    "    return dt"
   ]
  },
  {
   "cell_type": "code",
   "execution_count": 5,
   "metadata": {},
   "outputs": [
    {
     "name": "stdout",
     "output_type": "stream",
     "text": [
      "Final detailed data shape : (3329, 30)\n"
     ]
    }
   ],
   "source": [
    "def load_data():\n",
    "    path = '../../../../gtmsa_practicum_datasets/OPPS_charge_data/'\n",
    "    df = load_APC_Provider_Data(path)\n",
    "    db = load_detailed_dataset()\n",
    "    return df,db\n",
    "opps_data, det_data = load_data()"
   ]
  },
  {
   "cell_type": "code",
   "execution_count": 6,
   "metadata": {},
   "outputs": [],
   "source": [
    "def convert_opps_grouped_data(dt):\n",
    "    \n",
    "    cols = ['Provider ID' ,'year','Beneficiaries',\n",
    "'Comprehensive APC Services', 'Average Estimated Total Submitted Charges', 'Average Medicare Allowed Amount', \n",
    "'Average Medicare Payment Amount', 'Outlier Comprehensive APC Services', 'Average Medicare Outlier Amount']\n",
    "    dt = dt[cols].groupby(by=['Provider ID' ,'year']).mean()\n",
    "    dt = dt.unstack('year')\n",
    "    dt['medicare provider number'] = dt.index\n",
    "    return dt\n",
    "data = convert_opps_grouped_data(opps_data)"
   ]
  },
  {
   "cell_type": "code",
   "execution_count": 7,
   "metadata": {},
   "outputs": [],
   "source": [
    "data.to_csv('../gtmsa_practicum_datasets/OPPS_final_data.csv',index=False)"
   ]
  },
  {
   "cell_type": "code",
   "execution_count": null,
   "metadata": {},
   "outputs": [],
   "source": []
  }
 ],
 "metadata": {
  "kernelspec": {
   "display_name": "Python 3",
   "language": "python",
   "name": "python3"
  },
  "language_info": {
   "codemirror_mode": {
    "name": "ipython",
    "version": 3
   },
   "file_extension": ".py",
   "mimetype": "text/x-python",
   "name": "python",
   "nbconvert_exporter": "python",
   "pygments_lexer": "ipython3",
   "version": "3.8.5"
  }
 },
 "nbformat": 4,
 "nbformat_minor": 4
}
