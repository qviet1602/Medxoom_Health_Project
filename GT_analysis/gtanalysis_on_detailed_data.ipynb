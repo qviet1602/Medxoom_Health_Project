{
 "cells": [
  {
   "cell_type": "code",
   "execution_count": 1,
   "metadata": {},
   "outputs": [],
   "source": [
    "import numpy as np\n",
    "import pandas as pd\n",
    "from matplotlib import pyplot as plt\n",
    "from sklearn.linear_model import LinearRegression\n",
    "from sklearn.model_selection import train_test_split\n",
    "from sklearn.preprocessing import LabelEncoder\n",
    "from sklearn.metrics import mean_squared_error, r2_score"
   ]
  },
  {
   "cell_type": "markdown",
   "metadata": {},
   "source": [
    "<h1> Prepping detailed data set"
   ]
  },
  {
   "cell_type": "code",
   "execution_count": 3,
   "metadata": {},
   "outputs": [
    {
     "name": "stdout",
     "output_type": "stream",
     "text": [
      "Final detailed data shape : (3329, 30)\n",
      "(3329, 30)\n"
     ]
    }
   ],
   "source": [
    "def load_detailed_dataset():\n",
    "    db = pd.read_excel('../gtmsa_practicum_datasets/Detail_Data_new.xlsx',\n",
    "                        sheet_name='Table 1. PF Hospitals',skiprows=9,dtype=str)\n",
    "    db.columns=db.columns.str.replace('\\n',' ')\n",
    "    db.columns = db.columns.str.lower()\n",
    "    df = pd.read_excel('../gtmsa_practicum_datasets/Detailed_Data.xlsx',\n",
    "                        sheet_name='Table 1. Hospitals',skiprows=16,dtype=str)\n",
    "    df.columns=df.columns.str.replace('\\n',' ')\n",
    "    df.columns = df.columns.str.lower()\n",
    "    \n",
    "    dt = pd.concat([db,df])\n",
    "    dt = dt.drop_duplicates(subset=(['medicare provider number']),keep='first')\n",
    "    print('Final detailed data shape :',dt.shape)\n",
    "    return dt\n",
    "det_data = load_detailed_dataset()\n",
    "print(det_data.shape)"
   ]
  },
  {
   "cell_type": "code",
   "execution_count": 4,
   "metadata": {},
   "outputs": [],
   "source": [
    "det_data.to_csv('../gtmsa_practicum_datasets/detailed_final_data.csv',index=False)"
   ]
  },
  {
   "cell_type": "code",
   "execution_count": null,
   "metadata": {},
   "outputs": [],
   "source": []
  }
 ],
 "metadata": {
  "kernelspec": {
   "display_name": "Python 3",
   "language": "python",
   "name": "python3"
  },
  "language_info": {
   "codemirror_mode": {
    "name": "ipython",
    "version": 3
   },
   "file_extension": ".py",
   "mimetype": "text/x-python",
   "name": "python",
   "nbconvert_exporter": "python",
   "pygments_lexer": "ipython3",
   "version": "3.8.5"
  }
 },
 "nbformat": 4,
 "nbformat_minor": 4
}
