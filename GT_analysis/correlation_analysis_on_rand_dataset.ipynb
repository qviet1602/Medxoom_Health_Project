{
 "cells": [
  {
   "cell_type": "code",
   "execution_count": 1,
   "metadata": {},
   "outputs": [],
   "source": [
    "import numpy as np\n",
    "import pandas as pd\n",
    "from matplotlib import pyplot as plt\n",
    "import scipy\n",
    "from sklearn.linear_model import LinearRegression\n",
    "from sklearn.model_selection import train_test_split\n",
    "from sklearn.preprocessing import LabelEncoder\n",
    "from sklearn.metrics import mean_squared_error, r2_score"
   ]
  },
  {
   "cell_type": "code",
   "execution_count": 2,
   "metadata": {},
   "outputs": [],
   "source": [
    "# read in RAND dataset\n",
    "file = '../../../../gtmsa_practicum_datasets/rand_hcris_cy_hosp_a_2020_08_01.csv'\n",
    "rand = pd.read_csv(file, encoding='ISO-8859-1',low_memory=False)\n",
    "\n",
    "rand.rename(columns = {'Medicare provider number [prvdr_num]':'medicare provider number'},inplace=True)"
   ]
  },
  {
   "cell_type": "code",
   "execution_count": 3,
   "metadata": {},
   "outputs": [
    {
     "name": "stdout",
     "output_type": "stream",
     "text": [
      "(115757, 1191)\n",
      "(7475, 1191)\n"
     ]
    }
   ],
   "source": [
    "filtered_rand = rand[[i for i in rand.columns.values if rand[i].dtype!='object']]\n",
    "print(filtered_rand.shape)\n",
    "filtered_rand = filtered_rand.groupby(['medicare provider number']).mean()\n",
    "filtered_rand['medicare provider number'] = filtered_rand.index\n",
    "filtered_rand.reset_index(drop=True,inplace=True)\n",
    "print(filtered_rand.shape)"
   ]
  },
  {
   "cell_type": "code",
   "execution_count": 4,
   "metadata": {},
   "outputs": [],
   "source": [
    "# read in detailed_data dataset\n",
    "main_data = pd.read_csv('../gtmsa_practicum_datasets/detailed_final_data.csv',sep=',')\n",
    "main_data.columns=main_data.columns.str.replace('\\n',' ')\n",
    "idx = main_data['relative price for inpatient and outpatient services'].isnull()\n",
    "main_data = main_data[~idx]"
   ]
  },
  {
   "cell_type": "code",
   "execution_count": 5,
   "metadata": {
    "scrolled": true
   },
   "outputs": [],
   "source": [
    "cols = ['medicare provider number','relative price for inpatient and outpatient services']\n",
    "merged_data = pd.merge(main_data[cols],filtered_rand,how='inner')"
   ]
  },
  {
   "cell_type": "code",
   "execution_count": 6,
   "metadata": {},
   "outputs": [],
   "source": [
    "abs_corr_coef = np.zeros(merged_data.shape[1])\n",
    "corr_coef = np.zeros(merged_data.shape[1])\n",
    "for index,i in enumerate(merged_data.columns.values):\n",
    "    if(i not in cols):\n",
    "        if(np.sum((merged_data.iloc[:,index].isnull()))<400): #To exclude columns that had more than 400 NAN out of 726\\n\",\n",
    "            corr_coef[index] = (merged_data[i].corr(merged_data['relative price for inpatient and outpatient services']))\n",
    "            abs_corr_coef[index] = abs(corr_coef[index])\n",
    "corr_coef = np.nan_to_num(corr_coef,nan=0)\n",
    "abs_corr_coef = np.nan_to_num(abs_corr_coef,nan=0)"
   ]
  },
  {
   "cell_type": "code",
   "execution_count": 7,
   "metadata": {},
   "outputs": [
    {
     "name": "stdout",
     "output_type": "stream",
     "text": [
      "[1159  836  798 ...  654  653    0]\n",
      "[0.29315973 0.2753966  0.25549565 ... 0.         0.         0.        ]\n",
      "[   0  653  654 ...  798  836 1159]\n",
      "[0.29315973 0.2753966  0.25549565 ... 0.         0.         0.        ]\n",
      "[0.29315973 0.2753966  0.25549565 0.24787882 0.24781429 0.23320999\n",
      " 0.21788403 0.20631478 0.20011599 0.19932239 0.19874098 0.19841476\n",
      " 0.19717729 0.19280343 0.19002009 0.18509575 0.18307256 0.18202043\n",
      " 0.17324757 0.1689091  0.16861938 0.16628637 0.16542381 0.16242966\n",
      " 0.16127567 0.15909582 0.15773177 0.15386933 0.15297601 0.15250968]\n"
     ]
    }
   ],
   "source": [
    "rank = np.argsort(abs_corr_coef)\n",
    "rank = rank[::-1]\n",
    "print(rank)\n",
    "print(np.sort(abs_corr_coef)[::-1])\n",
    "print(rank[::-1])\n",
    "print(np.sort(abs_corr_coef)[::-1])\n",
    "print(np.sort(abs_corr_coef)[::-1][:30])"
   ]
  },
  {
   "cell_type": "code",
   "execution_count": 8,
   "metadata": {},
   "outputs": [],
   "source": [
    "final_cols = list(merged_data.columns[rank[::-1][:30]])\n",
    "final_cols.append('medicare provider number')\n",
    "merged_data[final_cols].to_csv('../gtmsa_practicum_datasets/rand_final_data.csv',index=False)"
   ]
  },
  {
   "cell_type": "code",
   "execution_count": null,
   "metadata": {},
   "outputs": [],
   "source": []
  }
 ],
 "metadata": {
  "kernelspec": {
   "display_name": "Python 3",
   "language": "python",
   "name": "python3"
  },
  "language_info": {
   "codemirror_mode": {
    "name": "ipython",
    "version": 3
   },
   "file_extension": ".py",
   "mimetype": "text/x-python",
   "name": "python",
   "nbconvert_exporter": "python",
   "pygments_lexer": "ipython3",
   "version": "3.8.5"
  }
 },
 "nbformat": 4,
 "nbformat_minor": 4
}
