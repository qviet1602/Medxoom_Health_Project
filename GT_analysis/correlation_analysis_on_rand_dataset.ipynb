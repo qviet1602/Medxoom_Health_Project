{
 "cells": [
  {
   "cell_type": "code",
   "execution_count": 2,
   "metadata": {},
   "outputs": [],
   "source": [
    "import numpy as np\n",
    "import pandas as pd\n",
    "from matplotlib import pyplot as plt\n",
    "import scipy\n",
    "from sklearn.linear_model import LinearRegression\n",
    "from sklearn.model_selection import train_test_split\n",
    "from sklearn.preprocessing import LabelEncoder\n",
    "from sklearn.metrics import mean_squared_error, r2_score"
   ]
  },
  {
   "cell_type": "code",
   "execution_count": 3,
   "metadata": {},
   "outputs": [],
   "source": [
    "# read in RAND dataset\n",
    "file = '../gtmsa_practicum_datasets/rand_hcris_cy_hosp_a_2020_08_01.csv'\n",
    "rand = pd.read_csv(file, encoding='ISO-8859-1',low_memory=False)\n",
    "\n",
    "rand.rename(columns = {'Medicare provider number [prvdr_num]':'Medicare Provider Number'},inplace=True)"
   ]
  },
  {
   "cell_type": "code",
   "execution_count": 4,
   "metadata": {},
   "outputs": [
    {
     "name": "stdout",
     "output_type": "stream",
     "text": [
      "(115757, 1191)\n",
      "(7475, 1191)\n"
     ]
    }
   ],
   "source": [
    "filtered_rand = rand[[i for i in rand.columns.values if rand[i].dtype!='object']]\n",
    "print(filtered_rand.shape)\n",
    "filtered_rand = filtered_rand.groupby(['Medicare Provider Number']).mean()\n",
    "filtered_rand['Medicare Provider Number'] = filtered_rand.index\n",
    "filtered_rand.reset_index(drop=True,inplace=True)\n",
    "print(filtered_rand.shape)"
   ]
  },
  {
   "cell_type": "code",
   "execution_count": 5,
   "metadata": {},
   "outputs": [],
   "source": [
    "# read in detailed_data dataset\n",
    "main_data = pd.read_excel('../gtmsa_practicum_datasets/Detailed_Data.xlsx',\n",
    "                        sheet_name='Table 1. Hospitals',skiprows=16)\n",
    "main_data.columns=main_data.columns.str.replace('\\n',' ')\n",
    "idx = main_data['Relative Price for Inpatient and Outpatient Services'].isnull()\n",
    "main_data = main_data[~idx]"
   ]
  },
  {
   "cell_type": "code",
   "execution_count": 6,
   "metadata": {},
   "outputs": [
    {
     "name": "stdout",
     "output_type": "stream",
     "text": [
      "(726, 1192)\n"
     ]
    }
   ],
   "source": [
    "merged_data = pd.merge(main_data[['Medicare Provider Number','Relative Price for Inpatient and Outpatient Services']],filtered_rand,how='inner')\n",
    "print(merged_data.shape)"
   ]
  },
  {
   "cell_type": "code",
   "execution_count": 10,
   "metadata": {},
   "outputs": [],
   "source": [
    "abs_corr_coef = np.zeros(merged_data.shape[1])\n",
    "corr_coef = np.zeros(merged_data.shape[1])\n",
    "cols = ['Medicare Provider Number','Relative Price for Inpatient and Outpatient Services']\n",
    "for index,i in enumerate(merged_data.columns.values):\n",
    "    if(i not in cols):\n",
    "        if(np.sum((merged_data.iloc[:,index].isnull()))<400): #To exclude columns that had more than 400 NAN out of 726\n",
    "            corr_coef[index] = (merged_data[i].corr(merged_data['Relative Price for Inpatient and Outpatient Services']))\n",
    "            abs_corr_coef[index] = abs(corr_coef[index])\n",
    "corr_coef = np.nan_to_num(corr_coef,nan=0)\n",
    "abs_corr_coef = np.nan_to_num(abs_corr_coef,nan=0)"
   ]
  },
  {
   "cell_type": "code",
   "execution_count": 16,
   "metadata": {},
   "outputs": [
    {
     "name": "stdout",
     "output_type": "stream",
     "text": [
      "[ 836 1150  834 ...  617  616    0]\n",
      "[0.39364046 0.39111401 0.33103277 ... 0.         0.         0.        ]\n"
     ]
    }
   ],
   "source": [
    "rank = np.argsort(abs_corr_coef)\n",
    "# rank from high to low\n",
    "rank = rank[::-1]\n",
    "print(rank)\n",
    "print(np.sort(abs_corr_coef)[::-1])"
   ]
  },
  {
   "cell_type": "code",
   "execution_count": 25,
   "metadata": {},
   "outputs": [
    {
     "name": "stdout",
     "output_type": "stream",
     "text": [
      "[ 836 1150  834 1159  833  829  707  796  611  798  837  818  762 1149\n",
      "  607  608 1112  835 1111  711]\n"
     ]
    }
   ],
   "source": [
    "feature_select_ind = rank[:20]\n",
    "print(feature_select_ind)\n",
    "final_data = merged_data.iloc[:,feature_select_ind]"
   ]
  },
  {
   "cell_type": "code",
   "execution_count": null,
   "metadata": {},
   "outputs": [],
   "source": []
  }
 ],
 "metadata": {
  "kernelspec": {
   "display_name": "Python 3",
   "language": "python",
   "name": "python3"
  },
  "language_info": {
   "codemirror_mode": {
    "name": "ipython",
    "version": 3
   },
   "file_extension": ".py",
   "mimetype": "text/x-python",
   "name": "python",
   "nbconvert_exporter": "python",
   "pygments_lexer": "ipython3",
   "version": "3.7.3"
  }
 },
 "nbformat": 4,
 "nbformat_minor": 4
}
