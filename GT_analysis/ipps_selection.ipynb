{
 "cells": [
  {
   "cell_type": "code",
   "execution_count": 1,
   "metadata": {},
   "outputs": [],
   "source": [
    "import numpy as np\n",
    "import pandas as pd"
   ]
  },
  {
   "cell_type": "code",
   "execution_count": 2,
   "metadata": {},
   "outputs": [],
   "source": [
    "# read in IPPS dataset from 2015-2017\n",
    "def load_IPPS_Provider_Data(p):\n",
    "    files = ['Medicare_Provider_Charge_Inpatient_DRGALL_FY2015.csv',\n",
    "             'Medicare_Provider_Charge_Inpatient_DRGALL_FY2016.csv',\n",
    "             'Medicare_Provider_Charge_Inpatient_DRGALL_FY2017.csv']\n",
    "    df = pd.DataFrame([])\n",
    "    for index,file in enumerate(files):\n",
    "        db = pd.read_csv(p+file,dtype=str)\n",
    "        db['year'] = 2015+index\n",
    "        db.columns=db.columns.str.replace('\\n',' ') \n",
    "        df = df.append(db)\n",
    "    df['Provider Id'] = df['Provider Id'].apply(lambda x: x.zfill(6))\n",
    "    cols = ['Total Discharges', 'Average Covered Charges',\n",
    "       'Average Total Payments', 'Average Medicare Payments']\n",
    "    \n",
    "    for col in cols:\n",
    "        df[col] = df[col].replace('[\\$,]', '', regex=True).astype(float)\n",
    "        df[col] = pd.to_numeric(df[col])\n",
    "    return df\n",
    "path2 = '../../../../gtmsa_practicum_datasets/Medicare_Provider_Charge_Inpatient_DRG/'\n",
    "ipps = load_IPPS_Provider_Data(path2)"
   ]
  },
  {
   "cell_type": "code",
   "execution_count": 3,
   "metadata": {},
   "outputs": [],
   "source": [
    "def convert_ipps_grouped_data(dt):\n",
    "    \n",
    "    cols = ['Provider Id' ,'year','Total Discharges', 'Average Covered Charges',\n",
    "       'Average Total Payments', 'Average Medicare Payments']\n",
    "    dt = dt[cols].groupby(by=['Provider Id' ,'year']).mean()\n",
    "    dt = dt.unstack('year')\n",
    "    dt['medicare provider number'] = dt.index\n",
    "    return dt\n",
    "data = convert_ipps_grouped_data(ipps)"
   ]
  },
  {
   "cell_type": "code",
   "execution_count": 4,
   "metadata": {},
   "outputs": [],
   "source": [
    "data.to_csv('../gtmsa_practicum_datasets/IPPS_final_data.csv',index=False)"
   ]
  },
  {
   "cell_type": "code",
   "execution_count": 5,
   "metadata": {
    "scrolled": true
   },
   "outputs": [
    {
     "data": {
      "text/plain": [
       "array(['DRG Definition', 'Provider Id', 'Provider Name',\n",
       "       'Provider Street Address', 'Provider City', 'Provider State',\n",
       "       'Provider Zip Code', 'Hospital Referral Region (HRR) Description',\n",
       "       'Total Discharges', 'Average Covered Charges',\n",
       "       'Average Total Payments', 'Average Medicare Payments', 'year'],\n",
       "      dtype=object)"
      ]
     },
     "execution_count": 5,
     "metadata": {},
     "output_type": "execute_result"
    }
   ],
   "source": [
    "ipps.columns.values"
   ]
  },
  {
   "cell_type": "code",
   "execution_count": 6,
   "metadata": {},
   "outputs": [],
   "source": [
    "# IPPS data manipulation # convert to integer\n",
    "ipps['Average Total Payments'] = ipps['Average Total Payments'].replace('[\\$,]', '', regex=True).astype(float)\n",
    "ipps['Total Discharges'] = ipps['Total Discharges'].replace(',', '', regex=True).astype(float)\n",
    "\n"
   ]
  },
  {
   "cell_type": "code",
   "execution_count": 7,
   "metadata": {
    "scrolled": true
   },
   "outputs": [
    {
     "name": "stdout",
     "output_type": "stream",
     "text": [
      "0.5253348864298194\n"
     ]
    },
    {
     "data": {
      "text/plain": [
       "GOOD SAMARITAN HOSPITAL                1563\n",
       "METHODIST HOSPITAL                     1436\n",
       "ST JOSEPH MEDICAL CENTER               1263\n",
       "FLORIDA HOSPITAL                       1202\n",
       "COVENANT MEDICAL CENTER                1158\n",
       "                                       ... \n",
       "LECONTE MEDICAL CENTER                  101\n",
       "CAPITAL MEDICAL CENTER                  101\n",
       "LEE'S SUMMIT MEDICAL CENTER             101\n",
       "BANNER DEL E WEBB MEDICAL CENTER        101\n",
       "SAN ANGELO COMMUNITY MEDICAL CENTER     101\n",
       "Name: Provider Name, Length: 1804, dtype: int64"
      ]
     },
     "execution_count": 7,
     "metadata": {},
     "output_type": "execute_result"
    }
   ],
   "source": [
    "Provide_name_counts =  ipps['Provider Name'].value_counts()\n",
    "idx = Provide_name_counts > 100\n",
    "print(np.mean(idx))\n",
    "Provide_name_counts[idx]"
   ]
  },
  {
   "cell_type": "code",
   "execution_count": 8,
   "metadata": {},
   "outputs": [
    {
     "data": {
      "text/plain": [
       "307"
      ]
     },
     "execution_count": 8,
     "metadata": {},
     "output_type": "execute_result"
    }
   ],
   "source": [
    "#investigate categorical features\n",
    "#633\n",
    "ipps['DRG Definition'].nunique()\n",
    "#3434\n",
    "ipps['Provider Name'].nunique()\n",
    "#307\n",
    "ipps['Hospital Referral Region (HRR) Description'].nunique()"
   ]
  },
  {
   "cell_type": "code",
   "execution_count": 9,
   "metadata": {},
   "outputs": [],
   "source": [
    "#drop categeorcal features that have too many features\n",
    "ipps=ipps.drop(columns=['DRG Definition','Provider Name','Provider Street Address',\n",
    "                       'Provider City','Provider State','Provider Zip Code','Hospital Referral Region (HRR) Description',\n",
    "                       ])\n",
    "\n",
    "\n",
    "\n"
   ]
  },
  {
   "cell_type": "code",
   "execution_count": 10,
   "metadata": {},
   "outputs": [
    {
     "data": {
      "text/html": [
       "<div>\n",
       "<style scoped>\n",
       "    .dataframe tbody tr th:only-of-type {\n",
       "        vertical-align: middle;\n",
       "    }\n",
       "\n",
       "    .dataframe tbody tr th {\n",
       "        vertical-align: top;\n",
       "    }\n",
       "\n",
       "    .dataframe thead th {\n",
       "        text-align: right;\n",
       "    }\n",
       "</style>\n",
       "<table border=\"1\" class=\"dataframe\">\n",
       "  <thead>\n",
       "    <tr style=\"text-align: right;\">\n",
       "      <th></th>\n",
       "      <th>Provider Id</th>\n",
       "      <th>Total Discharges</th>\n",
       "      <th>Average Covered Charges</th>\n",
       "      <th>Average Total Payments</th>\n",
       "      <th>Average Medicare Payments</th>\n",
       "      <th>year</th>\n",
       "    </tr>\n",
       "  </thead>\n",
       "  <tbody>\n",
       "    <tr>\n",
       "      <th>0</th>\n",
       "      <td>010033</td>\n",
       "      <td>11.0</td>\n",
       "      <td>1.014783e+06</td>\n",
       "      <td>171081.180000</td>\n",
       "      <td>141193.910000</td>\n",
       "      <td>2015</td>\n",
       "    </tr>\n",
       "    <tr>\n",
       "      <th>1</th>\n",
       "      <td>030103</td>\n",
       "      <td>28.0</td>\n",
       "      <td>3.820510e+05</td>\n",
       "      <td>194081.390000</td>\n",
       "      <td>167511.960000</td>\n",
       "      <td>2015</td>\n",
       "    </tr>\n",
       "    <tr>\n",
       "      <th>2</th>\n",
       "      <td>050025</td>\n",
       "      <td>21.0</td>\n",
       "      <td>9.718815e+05</td>\n",
       "      <td>324050.710000</td>\n",
       "      <td>294419.620000</td>\n",
       "      <td>2015</td>\n",
       "    </tr>\n",
       "    <tr>\n",
       "      <th>3</th>\n",
       "      <td>050100</td>\n",
       "      <td>18.0</td>\n",
       "      <td>1.517858e+06</td>\n",
       "      <td>257177.330000</td>\n",
       "      <td>233532.830000</td>\n",
       "      <td>2015</td>\n",
       "    </tr>\n",
       "    <tr>\n",
       "      <th>4</th>\n",
       "      <td>050108</td>\n",
       "      <td>17.0</td>\n",
       "      <td>1.470341e+06</td>\n",
       "      <td>346150.120000</td>\n",
       "      <td>338472.000000</td>\n",
       "      <td>2015</td>\n",
       "    </tr>\n",
       "    <tr>\n",
       "      <th>...</th>\n",
       "      <td>...</td>\n",
       "      <td>...</td>\n",
       "      <td>...</td>\n",
       "      <td>...</td>\n",
       "      <td>...</td>\n",
       "      <td>...</td>\n",
       "    </tr>\n",
       "    <tr>\n",
       "      <th>196320</th>\n",
       "      <td>670120</td>\n",
       "      <td>14.0</td>\n",
       "      <td>5.052814e+04</td>\n",
       "      <td>4924.071429</td>\n",
       "      <td>3647.500000</td>\n",
       "      <td>2017</td>\n",
       "    </tr>\n",
       "    <tr>\n",
       "      <th>196321</th>\n",
       "      <td>670120</td>\n",
       "      <td>23.0</td>\n",
       "      <td>4.739665e+04</td>\n",
       "      <td>4251.260870</td>\n",
       "      <td>3450.217391</td>\n",
       "      <td>2017</td>\n",
       "    </tr>\n",
       "    <tr>\n",
       "      <th>196322</th>\n",
       "      <td>670120</td>\n",
       "      <td>22.0</td>\n",
       "      <td>1.473422e+05</td>\n",
       "      <td>18504.954550</td>\n",
       "      <td>13261.090910</td>\n",
       "      <td>2017</td>\n",
       "    </tr>\n",
       "    <tr>\n",
       "      <th>196323</th>\n",
       "      <td>670122</td>\n",
       "      <td>25.0</td>\n",
       "      <td>1.181230e+05</td>\n",
       "      <td>11911.400000</td>\n",
       "      <td>11016.520000</td>\n",
       "      <td>2017</td>\n",
       "    </tr>\n",
       "    <tr>\n",
       "      <th>196324</th>\n",
       "      <td>670122</td>\n",
       "      <td>17.0</td>\n",
       "      <td>8.281229e+04</td>\n",
       "      <td>10706.882350</td>\n",
       "      <td>10165.000000</td>\n",
       "      <td>2017</td>\n",
       "    </tr>\n",
       "  </tbody>\n",
       "</table>\n",
       "<p>595484 rows × 6 columns</p>\n",
       "</div>"
      ],
      "text/plain": [
       "       Provider Id  Total Discharges  Average Covered Charges  \\\n",
       "0           010033              11.0             1.014783e+06   \n",
       "1           030103              28.0             3.820510e+05   \n",
       "2           050025              21.0             9.718815e+05   \n",
       "3           050100              18.0             1.517858e+06   \n",
       "4           050108              17.0             1.470341e+06   \n",
       "...            ...               ...                      ...   \n",
       "196320      670120              14.0             5.052814e+04   \n",
       "196321      670120              23.0             4.739665e+04   \n",
       "196322      670120              22.0             1.473422e+05   \n",
       "196323      670122              25.0             1.181230e+05   \n",
       "196324      670122              17.0             8.281229e+04   \n",
       "\n",
       "        Average Total Payments  Average Medicare Payments  year  \n",
       "0                171081.180000              141193.910000  2015  \n",
       "1                194081.390000              167511.960000  2015  \n",
       "2                324050.710000              294419.620000  2015  \n",
       "3                257177.330000              233532.830000  2015  \n",
       "4                346150.120000              338472.000000  2015  \n",
       "...                        ...                        ...   ...  \n",
       "196320             4924.071429                3647.500000  2017  \n",
       "196321             4251.260870                3450.217391  2017  \n",
       "196322            18504.954550               13261.090910  2017  \n",
       "196323            11911.400000               11016.520000  2017  \n",
       "196324            10706.882350               10165.000000  2017  \n",
       "\n",
       "[595484 rows x 6 columns]"
      ]
     },
     "execution_count": 10,
     "metadata": {},
     "output_type": "execute_result"
    }
   ],
   "source": [
    "ipps"
   ]
  },
  {
   "cell_type": "code",
   "execution_count": 11,
   "metadata": {},
   "outputs": [],
   "source": [
    "ipps['Average Covered Charges']=pd.to_numeric(ipps['Average Covered Charges'],errors='coerce')\n",
    "ipps['Average Covered Charges'].dtype\n",
    "ipps['Average Medicare Payments']=pd.to_numeric(ipps['Average Medicare Payments'],errors='coerce')\n",
    "ipps['Provider Id']=pd.to_numeric(ipps['Provider Id'],errors='coerce')"
   ]
  },
  {
   "cell_type": "code",
   "execution_count": 12,
   "metadata": {},
   "outputs": [
    {
     "data": {
      "text/html": [
       "<div>\n",
       "<style scoped>\n",
       "    .dataframe tbody tr th:only-of-type {\n",
       "        vertical-align: middle;\n",
       "    }\n",
       "\n",
       "    .dataframe tbody tr th {\n",
       "        vertical-align: top;\n",
       "    }\n",
       "\n",
       "    .dataframe thead th {\n",
       "        text-align: right;\n",
       "    }\n",
       "</style>\n",
       "<table border=\"1\" class=\"dataframe\">\n",
       "  <thead>\n",
       "    <tr style=\"text-align: right;\">\n",
       "      <th></th>\n",
       "      <th>Total Discharges</th>\n",
       "      <th>Average Covered Charges</th>\n",
       "      <th>Average Total Payments</th>\n",
       "      <th>Average Medicare Payments</th>\n",
       "    </tr>\n",
       "    <tr>\n",
       "      <th>Provider Id</th>\n",
       "      <th></th>\n",
       "      <th></th>\n",
       "      <th></th>\n",
       "      <th></th>\n",
       "    </tr>\n",
       "  </thead>\n",
       "  <tbody>\n",
       "    <tr>\n",
       "      <th>10001</th>\n",
       "      <td>44.413580</td>\n",
       "      <td>47368.595346</td>\n",
       "      <td>10036.619396</td>\n",
       "      <td>8804.755886</td>\n",
       "    </tr>\n",
       "    <tr>\n",
       "      <th>10005</th>\n",
       "      <td>38.671111</td>\n",
       "      <td>18247.278187</td>\n",
       "      <td>7384.554970</td>\n",
       "      <td>6097.033073</td>\n",
       "    </tr>\n",
       "    <tr>\n",
       "      <th>10006</th>\n",
       "      <td>40.125698</td>\n",
       "      <td>46338.491969</td>\n",
       "      <td>9535.423762</td>\n",
       "      <td>8286.482090</td>\n",
       "    </tr>\n",
       "    <tr>\n",
       "      <th>10007</th>\n",
       "      <td>21.946429</td>\n",
       "      <td>12564.707055</td>\n",
       "      <td>5494.060902</td>\n",
       "      <td>4594.803892</td>\n",
       "    </tr>\n",
       "    <tr>\n",
       "      <th>10008</th>\n",
       "      <td>18.625000</td>\n",
       "      <td>15143.466109</td>\n",
       "      <td>6163.267981</td>\n",
       "      <td>5098.147950</td>\n",
       "    </tr>\n",
       "    <tr>\n",
       "      <th>...</th>\n",
       "      <td>...</td>\n",
       "      <td>...</td>\n",
       "      <td>...</td>\n",
       "      <td>...</td>\n",
       "    </tr>\n",
       "    <tr>\n",
       "      <th>670112</th>\n",
       "      <td>41.000000</td>\n",
       "      <td>117879.271627</td>\n",
       "      <td>28541.372983</td>\n",
       "      <td>26828.692337</td>\n",
       "    </tr>\n",
       "    <tr>\n",
       "      <th>670116</th>\n",
       "      <td>29.000000</td>\n",
       "      <td>145493.983335</td>\n",
       "      <td>25640.225000</td>\n",
       "      <td>18517.209520</td>\n",
       "    </tr>\n",
       "    <tr>\n",
       "      <th>670119</th>\n",
       "      <td>16.000000</td>\n",
       "      <td>141627.875000</td>\n",
       "      <td>14726.437500</td>\n",
       "      <td>13357.000000</td>\n",
       "    </tr>\n",
       "    <tr>\n",
       "      <th>670120</th>\n",
       "      <td>15.222222</td>\n",
       "      <td>71595.689113</td>\n",
       "      <td>7312.766134</td>\n",
       "      <td>5788.862531</td>\n",
       "    </tr>\n",
       "    <tr>\n",
       "      <th>670122</th>\n",
       "      <td>21.000000</td>\n",
       "      <td>100467.647060</td>\n",
       "      <td>11309.141175</td>\n",
       "      <td>10590.760000</td>\n",
       "    </tr>\n",
       "  </tbody>\n",
       "</table>\n",
       "<p>3293 rows × 4 columns</p>\n",
       "</div>"
      ],
      "text/plain": [
       "             Total Discharges  Average Covered Charges  \\\n",
       "Provider Id                                              \n",
       "10001               44.413580             47368.595346   \n",
       "10005               38.671111             18247.278187   \n",
       "10006               40.125698             46338.491969   \n",
       "10007               21.946429             12564.707055   \n",
       "10008               18.625000             15143.466109   \n",
       "...                       ...                      ...   \n",
       "670112              41.000000            117879.271627   \n",
       "670116              29.000000            145493.983335   \n",
       "670119              16.000000            141627.875000   \n",
       "670120              15.222222             71595.689113   \n",
       "670122              21.000000            100467.647060   \n",
       "\n",
       "             Average Total Payments  Average Medicare Payments  \n",
       "Provider Id                                                     \n",
       "10001                  10036.619396                8804.755886  \n",
       "10005                   7384.554970                6097.033073  \n",
       "10006                   9535.423762                8286.482090  \n",
       "10007                   5494.060902                4594.803892  \n",
       "10008                   6163.267981                5098.147950  \n",
       "...                             ...                        ...  \n",
       "670112                 28541.372983               26828.692337  \n",
       "670116                 25640.225000               18517.209520  \n",
       "670119                 14726.437500               13357.000000  \n",
       "670120                  7312.766134                5788.862531  \n",
       "670122                 11309.141175               10590.760000  \n",
       "\n",
       "[3293 rows x 4 columns]"
      ]
     },
     "execution_count": 12,
     "metadata": {},
     "output_type": "execute_result"
    }
   ],
   "source": [
    "#aggregate averge cost of numerical features for 2015-2017\n",
    "ipps_uniq = ipps.groupby('Provider Id').agg({'Total Discharges':'mean','Average Covered Charges':\n",
    "                                             'mean','Average Total Payments':'mean','Average Medicare Payments':\n",
    "                                             'mean'\n",
    "                                            })\n",
    "                                             \n",
    "ipps_uniq"
   ]
  },
  {
   "cell_type": "code",
   "execution_count": 13,
   "metadata": {},
   "outputs": [],
   "source": [
    "#export selected ipps to excel\n",
    "ipps_uniq.to_csv(\"ipps_selected.csv\",sep=',', encoding='utf-8')"
   ]
  },
  {
   "cell_type": "code",
   "execution_count": null,
   "metadata": {},
   "outputs": [],
   "source": []
  }
 ],
 "metadata": {
  "kernelspec": {
   "display_name": "Python 3",
   "language": "python",
   "name": "python3"
  },
  "language_info": {
   "codemirror_mode": {
    "name": "ipython",
    "version": 3
   },
   "file_extension": ".py",
   "mimetype": "text/x-python",
   "name": "python",
   "nbconvert_exporter": "python",
   "pygments_lexer": "ipython3",
   "version": "3.8.5"
  }
 },
 "nbformat": 4,
 "nbformat_minor": 4
}
